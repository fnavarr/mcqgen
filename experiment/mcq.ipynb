{
 "cells": [
  {
   "cell_type": "code",
   "execution_count": 87,
   "metadata": {},
   "outputs": [],
   "source": [
    "import os\n",
    "import json\n",
    "import pandas as pd\n",
    "import traceback"
   ]
  },
  {
   "cell_type": "code",
   "execution_count": 88,
   "metadata": {},
   "outputs": [],
   "source": [
    "from langchain.chat_models import ChatOpenAI"
   ]
  },
  {
   "cell_type": "code",
   "execution_count": 89,
   "metadata": {},
   "outputs": [
    {
     "data": {
      "text/plain": [
       "True"
      ]
     },
     "execution_count": 89,
     "metadata": {},
     "output_type": "execute_result"
    }
   ],
   "source": [
    "from dotenv import load_dotenv\n",
    "load_dotenv()  # Take environment variables "
   ]
  },
  {
   "cell_type": "code",
   "execution_count": 90,
   "metadata": {},
   "outputs": [],
   "source": [
    "KEY = os.getenv(\"OPENAI_API_KEY\")"
   ]
  },
  {
   "cell_type": "code",
   "execution_count": 91,
   "metadata": {},
   "outputs": [],
   "source": [
    "llm = ChatOpenAI(openai_api_key = KEY, model_name = \"gpt-3.5-turbo\", temperature = 0.5 )\n"
   ]
  },
  {
   "cell_type": "code",
   "execution_count": 92,
   "metadata": {},
   "outputs": [],
   "source": [
    "from langchain.llms import OpenAI\n",
    "from langchain.prompts import PromptTemplate\n",
    "from langchain.chains import LLMChain\n",
    "from langchain.chains import SequentialChain\n",
    "from langchain.callbacks import get_openai_callback\n",
    "import PyPDF2"
   ]
  },
  {
   "cell_type": "code",
   "execution_count": 93,
   "metadata": {},
   "outputs": [],
   "source": [
    "# Next steps is to design the input and output prompt templates\n",
    "\n",
    "# Step-1 The RESPONSE_JSON\n",
    "\n",
    "RESPONSE_JSON = {\n",
    "    \"1\": {\n",
    "        \"mcq\": \"multiple choice question\",\n",
    "        \"options\": {\n",
    "            \"a\": \"choice here\",\n",
    "            \"b\": \"choice here\",\n",
    "            \"c\": \"choice here\",\n",
    "            \"d\": \"choice here\",\n",
    "        },\n",
    "        \"correct\": \"correct answer\",\n",
    "    },\n",
    "     \"2\": {\n",
    "        \"mcq\": \"multiple choice question\",\n",
    "        \"options\": {\n",
    "            \"a\": \"choice here\",\n",
    "            \"b\": \"choice here\",\n",
    "            \"c\": \"choice here\",\n",
    "            \"d\": \"choice here\",\n",
    "        },\n",
    "        \"correct\": \"correct answer\",\n",
    "    },\n",
    "     \"3\": {\n",
    "        \"mcq\": \"multiple choice question\",\n",
    "        \"options\": {\n",
    "            \"a\": \"choice here\",\n",
    "            \"b\": \"choice here\",\n",
    "            \"c\": \"choice here\",\n",
    "            \"d\": \"choice here\",\n",
    "        },\n",
    "        \"correct\": \"correct answer\",\n",
    "    },\n",
    "}"
   ]
  },
  {
   "cell_type": "code",
   "execution_count": 94,
   "metadata": {},
   "outputs": [],
   "source": [
    "# Step -2 The input prompt template \n",
    "\n",
    "TEMPLATE = \"\"\"\n",
    "Text:{text}\n",
    "Eres un creador experto de MCQ. Dado el texto anterior, es tu trabajo \\\n",
    "crear un cuestionario de {number} preguntas de opción múltiple para {subject} estudiantes en {tone} tone.\n",
    "Make sure to format your response like RESPONSE_JSON bellow an use it as a guide. \\\n",
    "Asegurate de hacer {number} MCQs\n",
    "{response_json}\n",
    "\"\"\""
   ]
  },
  {
   "cell_type": "code",
   "execution_count": 95,
   "metadata": {},
   "outputs": [],
   "source": [
    "# Step-3 The input prompt with the variables that the user is going to pass\n",
    "\n",
    "quiz_generation_prompt = PromptTemplate(\n",
    "    input_variables = [\"text\", \"number\", \"subject\", \"tone\", \"respose_json\"],\n",
    "    template = TEMPLATE\n",
    ")"
   ]
  },
  {
   "cell_type": "code",
   "execution_count": 96,
   "metadata": {},
   "outputs": [],
   "source": [
    "# Step-4 Lets to create the chain to connect altogether\n",
    "\n",
    "quiz_chain = LLMChain(llm=llm, prompt=quiz_generation_prompt, output_key=\"quiz\", verbose=True)"
   ]
  },
  {
   "cell_type": "code",
   "execution_count": 97,
   "metadata": {},
   "outputs": [],
   "source": [
    "# Step-5 THis is the second template to handle the correct answer\n",
    "\n",
    "TEMPLATE2 = \"\"\" \n",
    "Eres un experto gramático y escritor. Se realizó una prueba de opción múltiple para estudiantes de {subject}. \\\n",
    "Debe evaluar la complejidad de la pregunta y realizar un análisis completo del cuestionario. Utilice únicamente un máximo de 50 palabras para mayor complejidad.\n",
    "si el cuestionario no se ajusta a las capacidades cognitivas y analíticas de los estudiantes, \\\n",
    "actualice las preguntas del cuestionario que deben cambiarse y cambie el tono para que se ajuste perfectamente a las habilidades del estudiante\n",
    "Preguntas frecuentes del cuestionario:\n",
    "{quiz}\n",
    "\n",
    "Verifique con un escritor experto en inglés el cuestionario anterior:\n",
    "\"\"\""
   ]
  },
  {
   "cell_type": "code",
   "execution_count": 98,
   "metadata": {},
   "outputs": [],
   "source": [
    "# The chain evaluation\n",
    "\n",
    "quiz_evaluation_prompt = PromptTemplate(input_variables=[\"subject\", \"quiz\"], template=TEMPLATE)"
   ]
  },
  {
   "cell_type": "code",
   "execution_count": 99,
   "metadata": {},
   "outputs": [],
   "source": [
    "# The quiz evaluation chain\n",
    "\n",
    "review_chain = LLMChain(llm=llm, prompt=quiz_evaluation_prompt, output_key=\"review\", verbose=True)"
   ]
  },
  {
   "cell_type": "code",
   "execution_count": 100,
   "metadata": {},
   "outputs": [],
   "source": [
    "# Next we are going to connect both chains with SequentiaChain\n",
    "\n",
    "generate_evaluate_chain = SequentialChain(chains=[quiz_chain, review_chain], input_variables=[\"text\", \"number\", \"subject\", \"tone\", \"response_json\"],\n",
    "                                          output_variables = [\"quiz\", \"review\"], verbose=True)"
   ]
  },
  {
   "cell_type": "code",
   "execution_count": 101,
   "metadata": {},
   "outputs": [],
   "source": [
    "# We need to provide data with some file path\n",
    "file_path = r'C:\\Users\\Fernando Navarro\\mcqgen\\datos.txt'"
   ]
  },
  {
   "cell_type": "code",
   "execution_count": 102,
   "metadata": {},
   "outputs": [],
   "source": [
    "# We need to provide data with some file \n",
    "\n",
    "with open(file_path, 'r') as file:\n",
    "    TEXT = file.read()\n"
   ]
  },
  {
   "cell_type": "code",
   "execution_count": 103,
   "metadata": {},
   "outputs": [
    {
     "data": {
      "text/plain": [
       "'{\"1\": {\"mcq\": \"multiple choice question\", \"options\": {\"a\": \"choice here\", \"b\": \"choice here\", \"c\": \"choice here\", \"d\": \"choice here\"}, \"correct\": \"correct answer\"}, \"2\": {\"mcq\": \"multiple choice question\", \"options\": {\"a\": \"choice here\", \"b\": \"choice here\", \"c\": \"choice here\", \"d\": \"choice here\"}, \"correct\": \"correct answer\"}, \"3\": {\"mcq\": \"multiple choice question\", \"options\": {\"a\": \"choice here\", \"b\": \"choice here\", \"c\": \"choice here\", \"d\": \"choice here\"}, \"correct\": \"correct answer\"}}'"
      ]
     },
     "execution_count": 103,
     "metadata": {},
     "output_type": "execute_result"
    }
   ],
   "source": [
    "# Serialize the Python dictionary into a JSON-formatted string\n",
    "json.dumps(RESPONSE_JSON)"
   ]
  },
  {
   "cell_type": "code",
   "execution_count": 104,
   "metadata": {},
   "outputs": [],
   "source": [
    "# Define values for the generation. This are the input prametrer needed to create MCQs\n",
    "NUMBER = 5\n",
    "SUBJECT = \"WW-II History\"\n",
    "TONE = \"simple\""
   ]
  },
  {
   "cell_type": "code",
   "execution_count": 105,
   "metadata": {},
   "outputs": [
    {
     "name": "stdout",
     "output_type": "stream",
     "text": [
      "\n",
      "\n",
      "\u001b[1m> Entering new SequentialChain chain...\u001b[0m\n",
      "\n",
      "\n",
      "\u001b[1m> Entering new LLMChain chain...\u001b[0m\n",
      "Prompt after formatting:\n",
      "\u001b[32;1m\u001b[1;3m\n",
      "Text:La Operación Windsor fue una ofensiva canadiense lanzada como parte de la batalla de Normandía durante la Segunda Guerra Mundial. El ataque, que tuvo lugar en los días 4 y 5 de julio de 1944, fue realizado por la 3.ª División de Infantería Canadiense en un intento de capturar la ciudad normanda de Carpiquet y el adyacente aeródromo de las fuerzas alemanas. A pesar de que fue planeado originalmente para ser realizado durante las últimas etapas de la Operación Epsom, como un medio para proteger el frente oriental del asalto principal,2​ fue pospuesto y lanzado a la semana siguiente.\n",
      "\n",
      "El 4 de julio de 1944, cuatro batallones de la 3.ª División de Infantería Canadiense atacaron Carpiquet en conjunción con ataques envolventes de regimientos armados de la 2.ª Brigada Acorazada Canadiense. Aunque la 8.ª Brigada de Infantería Canadiense capturó exitosamente Carpiquet a media tarde, la resistencia alemana al sur evitó la captura del aeródromo a pesar del significante blindaje aliado y el apoyo aéreo. Al día siguiente, las fuerzas canadienses derrotaron los contraataques alemanes y tomaron exitosamente Carpiquet en preparación para los ataques británicos en Caen como parte de la Operación Charnwood.\n",
      "\n",
      "Antecedentes\n",
      "La histórica ciudad normanda de Caen fue un objetivo principal de la Operación Overlord para el I Cuerpo del 2.º Ejército Británico, se desembarcaron fuerzas en dos playas de Normandía el 6 de junio de 1944 buscando la captura de la ciudad y el área de Carpiquet.3​4​ Aunque Caen fue el objetivo inicial de las fuerzas británicas desembarcadas en la playa de Sword, la resistencia alemana evitó la captura de la ciudad el 6 de junio de 1944;5​ un resultado que había sido considerado como una posibilidad por el comandante del 2.º Ejército.6​ En las siguientes tres semanas, se produjo una guerra de posiciones; ambos lados atacaron y contraatacaron para conseguir una mínima ventaja en el frente anglo-canadiense.7​\n",
      "\n",
      "Del 26 al 30 de junio, el 2.º Ejército lanzó la Operación Epsom, usando al recién llegado VIII Cuerpo, una ofensiva diseñada para flanquear Caen y apoderarse de las tierras altas cercanas de Bretteville-sur-Laize, al sur de la ciudad.8​ Hacia el final de la acción, el VIII Cuerpo avanzó exitosamente 9,6 km a través de las fortificaciones,9​ pero los alemanes fueron capaces de contener la ofensiva, después de enviar sus últimas reservas.10​ Dependiente del éxito del VIII Cuerpo, la 3.ª División de Infantería Canadiense —apoyada por la 2.ª Brigada Acorazada Canadiense— fue capaz de iniciar una ofensiva para capturar la aldea y aeródromo de Carpiquet en un ataque con nombre en código Operación Ottawa;2​ sin embargo, esta operación fue cancelada.11​\n",
      "\n",
      "A pesar de las penetraciones al oeste de Caen, las fuerzas del I SS Cuerpo Panzer siguieron manteniendo posiciones al norte y oeste de la región. Las fortificaciones en el río Orne y cerca de Carpiquet evitaron avances hacía Caen desde el norte.12​ Carpiquet —5,6 kilómetros al noroeste del centro de Caen— se convirtió en un objetivo de la 3.ª División de Infantería Canadiense, comandada por mayor general Rod Keller. La necesidad de aeródromos en Normandía convirtió a Carpiquet en un valioso premio para los aliados y una importante posición defensiva para los alemanes.12​\n",
      "\n",
      "Preludio\n",
      "Defensas alemanas\n",
      "Las defensas alemanas dentro y fuera de Carpiquet eran formidables, la posición eran considerada «estratégicamente vital» por ambos beligerantes.13​ Las defensas en el aeródromo de Carpiquet se basaban en 1,9 km de terreno llano, el cual ofrecía a los defensores el perfecto «campo de la muerte».13​ El aeródromo se convirtió en una fortaleza,14​ se emplearon cañones de campaña, minas terrestres, emplazamientos de ametralladoras manejadas por el 1.er Batallón, el 26° SS Regimiento Panzergrenadier, una batería antiaérea y el apoyo de quince tanques.13​15​\n",
      "\n",
      "Fuerzas aliadas\n",
      "Para el ataque a Carpiquet, Keller seleccionó tres batallones de infantería de la 8.ª Brigada de Infantería Canadiense; el The Queen's Own Rifles of Canada (QRC), Le Régiment de la Chaudière y el Regimiento de North Shore. También el Royal Winnipeg Rifles (RWR) de la 7.ª Brigada de Infantería Canadiense formaría parte del asalto.13​ El 10.º Regimiento Acorazado Canadiense, los Fusileros Sherbrooke y el Cameron Highlanders Support Battalion proveyeron de apoyo armado y ametralladoras a las fuerzas aliadas. Más tarde se proporcionó apoyo adicional en forma de dos escuadrones de cazabombarderos Hawker Typhoon y tres escuadrones de tanques especializados de la 79.ª División Acorazada Británica.13​ Como un medio para añadir potencia al fuego de artillería pesada del bombardeo inicial, los cañones 406 mm del acorazado HMS Rodney apoyarían con bombardeos a las posiciones alemanas alrededor de Carpiquet, unos 24 km tierra adentro.\n",
      "\n",
      "La Operación Windsor fue diseñada para comenzar a las 05:00 horas del 4 de julio —después del bombardeo de 21 regimientos de artillería—16​con Le Régiment de la Chaudière y el Regimiento de North Shore atacando Carpiquet mientras que los Fusileros Sherbrooke protegerían el flanco norte.13​ En el sur, el RWR avanzaría y tomaría los hangares del aeródromo de Carpiquet.17​ Una vez que los dos regimientos hubieran capturado Carpiquet, el QRC tomaría el control de los edificios del aeródromo.13​ La captura permitiría más ataques anglo-canadienses contra Caen.18​\n",
      "\n",
      "Batalla\n",
      "Asalto canadiense en Carpiquet (4 de julio)\n",
      "\n",
      "Soldados de la 9.ª Brigada de Infantería canadiense en el interior de una iglesia destrozada en Carpiquet.\n",
      "Al amanecer el 4 de julio de 1944, 21 regimientos de artillería abrieron fuego contra las posiciones alemanas dentro y fuera de la ciudad de Carpiquet, disparando una barrera de fuego móvil de 1,6 km de ancho y 370 m de alto.Nota 2​21​ A las 05:00 horas, dos regimientos de infantería canadiense avanzaron en Carpiquet, mientras que los Fusileros Sherbrooke atacaron por el norte.16​ Los Fusileros Sherbooke lograron avanzar exitosamente a través de los campos minados alemanes, sin embargo, las posiciones defensivas del 26° SS Regimiento Panzergrenadier permanecieron intactas y continuaron disparando en el avance de la infantería del Regimiento de North Shore.16​ En el centro, los Chaudières evitaron gran parte del fuego dirigido al Regimiento North Shore a medida que avanzaban en Carpiquet.1​ Para las 06:32, ambos regimientos había llegado a las afueras de la ciudad, entrando en contacto con elementos de la 12.ª SS División Panzer.21​ Como la pelea en Carpiquet degeneró en una guerra de desgaste, tanques del 10.º Regimiento Acorazado Canadiense ayudaron a la infantería en la progresiva superación de la oposición alemana.22​\n",
      "\n",
      "En el sur, el RWR avanzó lentamente hacia el aeródromo, pero el fuego enemigo de morteros causó muchas bajas en el avance de la infantería.1​ El RWR necesitó 90 minutos para lograr avanzar 2,4 km entre Marcelet y los hangares del aeródromo.22​ Sólo con el posterior apoyo del fuego indirecto de un escuadrón del 10.º Regimiento Acorazado fue el RWR capaz de avanzar hacia la pista del aeródromo.1​22​ Muchos tanques Sherman fueron eliminados durante esta parte de la batalla. Para el mediodía el RWR, a medio camino, se vio forzado a retirarse hasta su posición original.22​\n",
      "\n",
      "\n",
      "Varios hombres de The Queen's Own Rifles of Canada cerca del aeródromo de Carpiquet.\n",
      "Sin saber que el RWR no había logrado obtener el control del aeródromo, Keller ordenó al QRC realizar la segunda fase del plan. El regimiento se movió a través de Carpiquet, controlada por los Chaudières y North Shore, quienes atacaron los fuertes alemanes dejados de lado por el asalto inicial.23​ Estos realizaron una combinación de ataques de infantería, lanzallamas, tanques Churchill (equipados con morteros de espiga de 290 mm) y la inmolación de un fuerte punto defensivo para obligar a sus doce defensores a rendirse. El resto se rindió después de una cruel batalla.23​ El QRC llegó al linde de Carpiquet cuando el RWR se retiraba y se le ordenó mantener sus posiciones hasta que el RWR pudiera reorganizarse para un segundo ataque.1​\n",
      "\n",
      "Para el segundo ataque en el aeródromo, Keller aseguró la ayuda de dos escuadrones de cazabombarderos Hawker Typhoon para apoyar los ataques contra las posiciones de los alemanes.23​ Los sobrevivientes de la RWR recibieron la orden de «ejecutar un amplio ataque en la tierra baja alrededor de flanco izquierdo del enemigo»,1​ empleando todos sus tanques y con el apoyo de artillería. Por la tarde, el RWR reanudó el ataque en el aeródromo y a pesar de que llegó a los hangares, fue incapaz de desalojar a los defensores alemanes.23​ Debido a los contraataques de las unidades Panzer,1​ se ordenó al RWR retirarse a su línea de salida bajo el amparo de la oscuridad.23​ En Carpiquet, tres batallones de la 8.ª Brigada de Infantería Canadiense rápidamente fortificaron sus posiciones. Después de la toma de la ciudad, la brigada logró posicionarse más cerca de Caen que cualquier otra unidad anglo-canadiense.24​ Aunque los canadienses tenían un control firme de Carpiquet y los hangares del norte, los hangares del sur y los edificios de control se mantuvieron en manos alemanas.24​\n",
      "\n",
      "Contraataques alemanes (5 de julio)\n",
      "\n",
      "Ruinas del aeródromo de Carpiquet después de ser bombardeado.\n",
      "Menos de 1,6 km a las afueras de Caen, la 8.ª Brigada de Infantería Canadiense representaba una amenaza para las posiciones alemanas en la ciudad.24​ Con la mayoría de las defensas concentradas al norte de Caen y en el río Odón, se temía que las fuerzas anglo-canadiense pudieran atacar desde Carpiquet y bordear la mayoría de las defensas.24​ A pesar de las dudas crecientes sobre el éxito de un contraataque, Kurt Meyer ordenó a los soldados de la 12.ª SS División Panzer recuperar Carpiquet.1​ Las fuerzas alemanas se preparaban para contraatacar en Carpiquet desde Franqueville con vehículos blindados, artillería, morteros e infantería.24​\n",
      "\n",
      "Poco después de la medianoche comenzó el primero de los contraataques de las SS y los alemanes se lanzaron contra las defensas canadienses. A pesar de que se habían perdido trece tanques el día anterior,24​ el resto del 10.º Regimiento Acorazado Canadiense, apoyado por morteros de los Cameron Highlanders, evitaron que los panzers alemanes penetraran en las ruinas de Carpiquet.24​ Las posiciones defensivas canadienses y el fuego de las ametralladoras causaron numerosas víctimas alemanas. Para el amanecer, los atacantes no habían ganado casi nada de terreno. Para el mediodía, la 8.ª Brigada de Infantería Canadiense y el 10.º Regimiento Acorazado Canadiense habían derrotado tres contraataques con el apoyo de artillería y de cazabombarderos Hawker Typhoon, asegurando que las fuerzas alemanas no volvieran a intentar violar las posiciones canadienses.1​ La ciudad se mantuvo bajo control canadiense, a pesar del bombardeo constante de Nebelwerfers y morteros alemanes.24​\n",
      "\n",
      "Consecuencias\n",
      "\n",
      "Los soldados canadienses con un miembro de la Luftwaffe alemana hecho prisionero en el aeródromo de Carpiquet.\n",
      "Tres días después de la Operación Windsor, los ataques sobre Caen fueron renovados, con la 3.ª División de Infantería Canadiense formando parte de la Operación Charnwood. El 9 de julio, la 8.ª Brigada de Infantería Canadiense capturó exitosamente el aeródromo de Carpiquet,18​ y 450 aviones de la Royal Air Force bombardearon Caen en preparación de un asalto mayor. Para el final del día, la mitad norte de Caen había sido capturado por las fuerzas británicas, mientras que el resto de la ciudad era arrasada.25​ El 18 de julio, fuerzas británicas y canadienses lanzaron las operaciones Atlantic y Goodwood, los canadienses lanzaron la operación para liberar el resto de Caen, mientras que las fuerzas británicas aseguraron el área este y sur de la ciudad.26​27​ Las fuerzas canadienses atacaron posiciones alemanas en la cresta de Verrières.28​\n",
      "\n",
      "Pérdidas\n",
      "Las víctimas canadienses de la Operación Windsor fueron en total 377,1​ 127 de ellas fatales.1​ La mayoría de estas pérdidas se produjeron el 4 de julio; el RWR y el Regimiento de North Shore tuvieron aproximadamente 130 víctimas cada uno en el primer día.24​ En total, el 10.º Regimiento Armado Canadiense perdió diecisiete tanques, con un número desconocido de pérdidas por parte de los Fusileros Sherbrooke.29​ Estadísticas alemanas indican unas bajas totales en 155,1​ la mayoría producidas durante los contraataques del 5 de julio.30​\n",
      "Eres un creador experto de MCQ. Dado el texto anterior, es tu trabajo crear un cuestionario de 5 preguntas de opción múltiple para WW-II History estudiantes en simple tone.\n",
      "Make sure to format your response like RESPONSE_JSON bellow an use it as a guide. Asegurate de hacer 5 MCQs\n",
      "{\"1\": {\"mcq\": \"multiple choice question\", \"options\": {\"a\": \"choice here\", \"b\": \"choice here\", \"c\": \"choice here\", \"d\": \"choice here\"}, \"correct\": \"correct answer\"}, \"2\": {\"mcq\": \"multiple choice question\", \"options\": {\"a\": \"choice here\", \"b\": \"choice here\", \"c\": \"choice here\", \"d\": \"choice here\"}, \"correct\": \"correct answer\"}, \"3\": {\"mcq\": \"multiple choice question\", \"options\": {\"a\": \"choice here\", \"b\": \"choice here\", \"c\": \"choice here\", \"d\": \"choice here\"}, \"correct\": \"correct answer\"}}\n",
      "\u001b[0m\n",
      "\n",
      "\u001b[1m> Finished chain.\u001b[0m\n",
      "\n",
      "\n",
      "\u001b[1m> Entering new LLMChain chain...\u001b[0m\n",
      "Prompt after formatting:\n",
      "\u001b[32;1m\u001b[1;3m\n",
      "Text:La Operación Windsor fue una ofensiva canadiense lanzada como parte de la batalla de Normandía durante la Segunda Guerra Mundial. El ataque, que tuvo lugar en los días 4 y 5 de julio de 1944, fue realizado por la 3.ª División de Infantería Canadiense en un intento de capturar la ciudad normanda de Carpiquet y el adyacente aeródromo de las fuerzas alemanas. A pesar de que fue planeado originalmente para ser realizado durante las últimas etapas de la Operación Epsom, como un medio para proteger el frente oriental del asalto principal,2​ fue pospuesto y lanzado a la semana siguiente.\n",
      "\n",
      "El 4 de julio de 1944, cuatro batallones de la 3.ª División de Infantería Canadiense atacaron Carpiquet en conjunción con ataques envolventes de regimientos armados de la 2.ª Brigada Acorazada Canadiense. Aunque la 8.ª Brigada de Infantería Canadiense capturó exitosamente Carpiquet a media tarde, la resistencia alemana al sur evitó la captura del aeródromo a pesar del significante blindaje aliado y el apoyo aéreo. Al día siguiente, las fuerzas canadienses derrotaron los contraataques alemanes y tomaron exitosamente Carpiquet en preparación para los ataques británicos en Caen como parte de la Operación Charnwood.\n",
      "\n",
      "Antecedentes\n",
      "La histórica ciudad normanda de Caen fue un objetivo principal de la Operación Overlord para el I Cuerpo del 2.º Ejército Británico, se desembarcaron fuerzas en dos playas de Normandía el 6 de junio de 1944 buscando la captura de la ciudad y el área de Carpiquet.3​4​ Aunque Caen fue el objetivo inicial de las fuerzas británicas desembarcadas en la playa de Sword, la resistencia alemana evitó la captura de la ciudad el 6 de junio de 1944;5​ un resultado que había sido considerado como una posibilidad por el comandante del 2.º Ejército.6​ En las siguientes tres semanas, se produjo una guerra de posiciones; ambos lados atacaron y contraatacaron para conseguir una mínima ventaja en el frente anglo-canadiense.7​\n",
      "\n",
      "Del 26 al 30 de junio, el 2.º Ejército lanzó la Operación Epsom, usando al recién llegado VIII Cuerpo, una ofensiva diseñada para flanquear Caen y apoderarse de las tierras altas cercanas de Bretteville-sur-Laize, al sur de la ciudad.8​ Hacia el final de la acción, el VIII Cuerpo avanzó exitosamente 9,6 km a través de las fortificaciones,9​ pero los alemanes fueron capaces de contener la ofensiva, después de enviar sus últimas reservas.10​ Dependiente del éxito del VIII Cuerpo, la 3.ª División de Infantería Canadiense —apoyada por la 2.ª Brigada Acorazada Canadiense— fue capaz de iniciar una ofensiva para capturar la aldea y aeródromo de Carpiquet en un ataque con nombre en código Operación Ottawa;2​ sin embargo, esta operación fue cancelada.11​\n",
      "\n",
      "A pesar de las penetraciones al oeste de Caen, las fuerzas del I SS Cuerpo Panzer siguieron manteniendo posiciones al norte y oeste de la región. Las fortificaciones en el río Orne y cerca de Carpiquet evitaron avances hacía Caen desde el norte.12​ Carpiquet —5,6 kilómetros al noroeste del centro de Caen— se convirtió en un objetivo de la 3.ª División de Infantería Canadiense, comandada por mayor general Rod Keller. La necesidad de aeródromos en Normandía convirtió a Carpiquet en un valioso premio para los aliados y una importante posición defensiva para los alemanes.12​\n",
      "\n",
      "Preludio\n",
      "Defensas alemanas\n",
      "Las defensas alemanas dentro y fuera de Carpiquet eran formidables, la posición eran considerada «estratégicamente vital» por ambos beligerantes.13​ Las defensas en el aeródromo de Carpiquet se basaban en 1,9 km de terreno llano, el cual ofrecía a los defensores el perfecto «campo de la muerte».13​ El aeródromo se convirtió en una fortaleza,14​ se emplearon cañones de campaña, minas terrestres, emplazamientos de ametralladoras manejadas por el 1.er Batallón, el 26° SS Regimiento Panzergrenadier, una batería antiaérea y el apoyo de quince tanques.13​15​\n",
      "\n",
      "Fuerzas aliadas\n",
      "Para el ataque a Carpiquet, Keller seleccionó tres batallones de infantería de la 8.ª Brigada de Infantería Canadiense; el The Queen's Own Rifles of Canada (QRC), Le Régiment de la Chaudière y el Regimiento de North Shore. También el Royal Winnipeg Rifles (RWR) de la 7.ª Brigada de Infantería Canadiense formaría parte del asalto.13​ El 10.º Regimiento Acorazado Canadiense, los Fusileros Sherbrooke y el Cameron Highlanders Support Battalion proveyeron de apoyo armado y ametralladoras a las fuerzas aliadas. Más tarde se proporcionó apoyo adicional en forma de dos escuadrones de cazabombarderos Hawker Typhoon y tres escuadrones de tanques especializados de la 79.ª División Acorazada Británica.13​ Como un medio para añadir potencia al fuego de artillería pesada del bombardeo inicial, los cañones 406 mm del acorazado HMS Rodney apoyarían con bombardeos a las posiciones alemanas alrededor de Carpiquet, unos 24 km tierra adentro.\n",
      "\n",
      "La Operación Windsor fue diseñada para comenzar a las 05:00 horas del 4 de julio —después del bombardeo de 21 regimientos de artillería—16​con Le Régiment de la Chaudière y el Regimiento de North Shore atacando Carpiquet mientras que los Fusileros Sherbrooke protegerían el flanco norte.13​ En el sur, el RWR avanzaría y tomaría los hangares del aeródromo de Carpiquet.17​ Una vez que los dos regimientos hubieran capturado Carpiquet, el QRC tomaría el control de los edificios del aeródromo.13​ La captura permitiría más ataques anglo-canadienses contra Caen.18​\n",
      "\n",
      "Batalla\n",
      "Asalto canadiense en Carpiquet (4 de julio)\n",
      "\n",
      "Soldados de la 9.ª Brigada de Infantería canadiense en el interior de una iglesia destrozada en Carpiquet.\n",
      "Al amanecer el 4 de julio de 1944, 21 regimientos de artillería abrieron fuego contra las posiciones alemanas dentro y fuera de la ciudad de Carpiquet, disparando una barrera de fuego móvil de 1,6 km de ancho y 370 m de alto.Nota 2​21​ A las 05:00 horas, dos regimientos de infantería canadiense avanzaron en Carpiquet, mientras que los Fusileros Sherbrooke atacaron por el norte.16​ Los Fusileros Sherbooke lograron avanzar exitosamente a través de los campos minados alemanes, sin embargo, las posiciones defensivas del 26° SS Regimiento Panzergrenadier permanecieron intactas y continuaron disparando en el avance de la infantería del Regimiento de North Shore.16​ En el centro, los Chaudières evitaron gran parte del fuego dirigido al Regimiento North Shore a medida que avanzaban en Carpiquet.1​ Para las 06:32, ambos regimientos había llegado a las afueras de la ciudad, entrando en contacto con elementos de la 12.ª SS División Panzer.21​ Como la pelea en Carpiquet degeneró en una guerra de desgaste, tanques del 10.º Regimiento Acorazado Canadiense ayudaron a la infantería en la progresiva superación de la oposición alemana.22​\n",
      "\n",
      "En el sur, el RWR avanzó lentamente hacia el aeródromo, pero el fuego enemigo de morteros causó muchas bajas en el avance de la infantería.1​ El RWR necesitó 90 minutos para lograr avanzar 2,4 km entre Marcelet y los hangares del aeródromo.22​ Sólo con el posterior apoyo del fuego indirecto de un escuadrón del 10.º Regimiento Acorazado fue el RWR capaz de avanzar hacia la pista del aeródromo.1​22​ Muchos tanques Sherman fueron eliminados durante esta parte de la batalla. Para el mediodía el RWR, a medio camino, se vio forzado a retirarse hasta su posición original.22​\n",
      "\n",
      "\n",
      "Varios hombres de The Queen's Own Rifles of Canada cerca del aeródromo de Carpiquet.\n",
      "Sin saber que el RWR no había logrado obtener el control del aeródromo, Keller ordenó al QRC realizar la segunda fase del plan. El regimiento se movió a través de Carpiquet, controlada por los Chaudières y North Shore, quienes atacaron los fuertes alemanes dejados de lado por el asalto inicial.23​ Estos realizaron una combinación de ataques de infantería, lanzallamas, tanques Churchill (equipados con morteros de espiga de 290 mm) y la inmolación de un fuerte punto defensivo para obligar a sus doce defensores a rendirse. El resto se rindió después de una cruel batalla.23​ El QRC llegó al linde de Carpiquet cuando el RWR se retiraba y se le ordenó mantener sus posiciones hasta que el RWR pudiera reorganizarse para un segundo ataque.1​\n",
      "\n",
      "Para el segundo ataque en el aeródromo, Keller aseguró la ayuda de dos escuadrones de cazabombarderos Hawker Typhoon para apoyar los ataques contra las posiciones de los alemanes.23​ Los sobrevivientes de la RWR recibieron la orden de «ejecutar un amplio ataque en la tierra baja alrededor de flanco izquierdo del enemigo»,1​ empleando todos sus tanques y con el apoyo de artillería. Por la tarde, el RWR reanudó el ataque en el aeródromo y a pesar de que llegó a los hangares, fue incapaz de desalojar a los defensores alemanes.23​ Debido a los contraataques de las unidades Panzer,1​ se ordenó al RWR retirarse a su línea de salida bajo el amparo de la oscuridad.23​ En Carpiquet, tres batallones de la 8.ª Brigada de Infantería Canadiense rápidamente fortificaron sus posiciones. Después de la toma de la ciudad, la brigada logró posicionarse más cerca de Caen que cualquier otra unidad anglo-canadiense.24​ Aunque los canadienses tenían un control firme de Carpiquet y los hangares del norte, los hangares del sur y los edificios de control se mantuvieron en manos alemanas.24​\n",
      "\n",
      "Contraataques alemanes (5 de julio)\n",
      "\n",
      "Ruinas del aeródromo de Carpiquet después de ser bombardeado.\n",
      "Menos de 1,6 km a las afueras de Caen, la 8.ª Brigada de Infantería Canadiense representaba una amenaza para las posiciones alemanas en la ciudad.24​ Con la mayoría de las defensas concentradas al norte de Caen y en el río Odón, se temía que las fuerzas anglo-canadiense pudieran atacar desde Carpiquet y bordear la mayoría de las defensas.24​ A pesar de las dudas crecientes sobre el éxito de un contraataque, Kurt Meyer ordenó a los soldados de la 12.ª SS División Panzer recuperar Carpiquet.1​ Las fuerzas alemanas se preparaban para contraatacar en Carpiquet desde Franqueville con vehículos blindados, artillería, morteros e infantería.24​\n",
      "\n",
      "Poco después de la medianoche comenzó el primero de los contraataques de las SS y los alemanes se lanzaron contra las defensas canadienses. A pesar de que se habían perdido trece tanques el día anterior,24​ el resto del 10.º Regimiento Acorazado Canadiense, apoyado por morteros de los Cameron Highlanders, evitaron que los panzers alemanes penetraran en las ruinas de Carpiquet.24​ Las posiciones defensivas canadienses y el fuego de las ametralladoras causaron numerosas víctimas alemanas. Para el amanecer, los atacantes no habían ganado casi nada de terreno. Para el mediodía, la 8.ª Brigada de Infantería Canadiense y el 10.º Regimiento Acorazado Canadiense habían derrotado tres contraataques con el apoyo de artillería y de cazabombarderos Hawker Typhoon, asegurando que las fuerzas alemanas no volvieran a intentar violar las posiciones canadienses.1​ La ciudad se mantuvo bajo control canadiense, a pesar del bombardeo constante de Nebelwerfers y morteros alemanes.24​\n",
      "\n",
      "Consecuencias\n",
      "\n",
      "Los soldados canadienses con un miembro de la Luftwaffe alemana hecho prisionero en el aeródromo de Carpiquet.\n",
      "Tres días después de la Operación Windsor, los ataques sobre Caen fueron renovados, con la 3.ª División de Infantería Canadiense formando parte de la Operación Charnwood. El 9 de julio, la 8.ª Brigada de Infantería Canadiense capturó exitosamente el aeródromo de Carpiquet,18​ y 450 aviones de la Royal Air Force bombardearon Caen en preparación de un asalto mayor. Para el final del día, la mitad norte de Caen había sido capturado por las fuerzas británicas, mientras que el resto de la ciudad era arrasada.25​ El 18 de julio, fuerzas británicas y canadienses lanzaron las operaciones Atlantic y Goodwood, los canadienses lanzaron la operación para liberar el resto de Caen, mientras que las fuerzas británicas aseguraron el área este y sur de la ciudad.26​27​ Las fuerzas canadienses atacaron posiciones alemanas en la cresta de Verrières.28​\n",
      "\n",
      "Pérdidas\n",
      "Las víctimas canadienses de la Operación Windsor fueron en total 377,1​ 127 de ellas fatales.1​ La mayoría de estas pérdidas se produjeron el 4 de julio; el RWR y el Regimiento de North Shore tuvieron aproximadamente 130 víctimas cada uno en el primer día.24​ En total, el 10.º Regimiento Armado Canadiense perdió diecisiete tanques, con un número desconocido de pérdidas por parte de los Fusileros Sherbrooke.29​ Estadísticas alemanas indican unas bajas totales en 155,1​ la mayoría producidas durante los contraataques del 5 de julio.30​\n",
      "Eres un creador experto de MCQ. Dado el texto anterior, es tu trabajo crear un cuestionario de 5 preguntas de opción múltiple para WW-II History estudiantes en simple tone.\n",
      "Make sure to format your response like RESPONSE_JSON bellow an use it as a guide. Asegurate de hacer 5 MCQs\n",
      "{\"1\": {\"mcq\": \"multiple choice question\", \"options\": {\"a\": \"choice here\", \"b\": \"choice here\", \"c\": \"choice here\", \"d\": \"choice here\"}, \"correct\": \"correct answer\"}, \"2\": {\"mcq\": \"multiple choice question\", \"options\": {\"a\": \"choice here\", \"b\": \"choice here\", \"c\": \"choice here\", \"d\": \"choice here\"}, \"correct\": \"correct answer\"}, \"3\": {\"mcq\": \"multiple choice question\", \"options\": {\"a\": \"choice here\", \"b\": \"choice here\", \"c\": \"choice here\", \"d\": \"choice here\"}, \"correct\": \"correct answer\"}}\n",
      "\u001b[0m\n",
      "\n",
      "\u001b[1m> Finished chain.\u001b[0m\n",
      "\n",
      "\u001b[1m> Finished chain.\u001b[0m\n"
     ]
    }
   ],
   "source": [
    "# The final step. FOr additional info:\n",
    "# https://python.langchain.com/docs/modules/model_io/llms/token_usage-tracking \n",
    "\n",
    "# Seting up:\n",
    "with get_openai_callback() as cb:\n",
    "    response=generate_evaluate_chain(\n",
    "        {\n",
    "            \"text\": TEXT,\n",
    "            \"number\": NUMBER,\n",
    "            \"subject\": SUBJECT,\n",
    "            \"tone\": TONE,\n",
    "            \"response_json\": json.dumps(RESPONSE_JSON)\n",
    "        }\n",
    "    )\n",
    "\n"
   ]
  },
  {
   "cell_type": "code",
   "execution_count": 106,
   "metadata": {},
   "outputs": [
    {
     "name": "stdout",
     "output_type": "stream",
     "text": [
      "Total Tokens:8769\n",
      "Prompt Tokens:7766\n",
      "Completion Tokens:1003\n",
      "Total Cost:0.013655\n"
     ]
    }
   ],
   "source": [
    "# Show Counters \n",
    "print(f\"Total Tokens:{cb.total_tokens}\")\n",
    "print(f\"Prompt Tokens:{cb.prompt_tokens}\")\n",
    "print(f\"Completion Tokens:{cb.completion_tokens}\")\n",
    "print(f\"Total Cost:{cb.total_cost}\")"
   ]
  },
  {
   "cell_type": "code",
   "execution_count": 107,
   "metadata": {},
   "outputs": [
    {
     "data": {
      "text/plain": [
       "{'text': \"La Operación Windsor fue una ofensiva canadiense lanzada como parte de la batalla de Normandía durante la Segunda Guerra Mundial. El ataque, que tuvo lugar en los días 4 y 5 de julio de 1944, fue realizado por la 3.ª División de Infantería Canadiense en un intento de capturar la ciudad normanda de Carpiquet y el adyacente aeródromo de las fuerzas alemanas. A pesar de que fue planeado originalmente para ser realizado durante las últimas etapas de la Operación Epsom, como un medio para proteger el frente oriental del asalto principal,2\\u200b fue pospuesto y lanzado a la semana siguiente.\\n\\nEl 4 de julio de 1944, cuatro batallones de la 3.ª División de Infantería Canadiense atacaron Carpiquet en conjunción con ataques envolventes de regimientos armados de la 2.ª Brigada Acorazada Canadiense. Aunque la 8.ª Brigada de Infantería Canadiense capturó exitosamente Carpiquet a media tarde, la resistencia alemana al sur evitó la captura del aeródromo a pesar del significante blindaje aliado y el apoyo aéreo. Al día siguiente, las fuerzas canadienses derrotaron los contraataques alemanes y tomaron exitosamente Carpiquet en preparación para los ataques británicos en Caen como parte de la Operación Charnwood.\\n\\nAntecedentes\\nLa histórica ciudad normanda de Caen fue un objetivo principal de la Operación Overlord para el I Cuerpo del 2.º Ejército Británico, se desembarcaron fuerzas en dos playas de Normandía el 6 de junio de 1944 buscando la captura de la ciudad y el área de Carpiquet.3\\u200b4\\u200b Aunque Caen fue el objetivo inicial de las fuerzas británicas desembarcadas en la playa de Sword, la resistencia alemana evitó la captura de la ciudad el 6 de junio de 1944;5\\u200b un resultado que había sido considerado como una posibilidad por el comandante del 2.º Ejército.6\\u200b En las siguientes tres semanas, se produjo una guerra de posiciones; ambos lados atacaron y contraatacaron para conseguir una mínima ventaja en el frente anglo-canadiense.7\\u200b\\n\\nDel 26 al 30 de junio, el 2.º Ejército lanzó la Operación Epsom, usando al recién llegado VIII Cuerpo, una ofensiva diseñada para flanquear Caen y apoderarse de las tierras altas cercanas de Bretteville-sur-Laize, al sur de la ciudad.8\\u200b Hacia el final de la acción, el VIII Cuerpo avanzó exitosamente 9,6 km a través de las fortificaciones,9\\u200b pero los alemanes fueron capaces de contener la ofensiva, después de enviar sus últimas reservas.10\\u200b Dependiente del éxito del VIII Cuerpo, la 3.ª División de Infantería Canadiense —apoyada por la 2.ª Brigada Acorazada Canadiense— fue capaz de iniciar una ofensiva para capturar la aldea y aeródromo de Carpiquet en un ataque con nombre en código Operación Ottawa;2\\u200b sin embargo, esta operación fue cancelada.11\\u200b\\n\\nA pesar de las penetraciones al oeste de Caen, las fuerzas del I SS Cuerpo Panzer siguieron manteniendo posiciones al norte y oeste de la región. Las fortificaciones en el río Orne y cerca de Carpiquet evitaron avances hacía Caen desde el norte.12\\u200b Carpiquet —5,6 kilómetros al noroeste del centro de Caen— se convirtió en un objetivo de la 3.ª División de Infantería Canadiense, comandada por mayor general Rod Keller. La necesidad de aeródromos en Normandía convirtió a Carpiquet en un valioso premio para los aliados y una importante posición defensiva para los alemanes.12\\u200b\\n\\nPreludio\\nDefensas alemanas\\nLas defensas alemanas dentro y fuera de Carpiquet eran formidables, la posición eran considerada «estratégicamente vital» por ambos beligerantes.13\\u200b Las defensas en el aeródromo de Carpiquet se basaban en 1,9 km de terreno llano, el cual ofrecía a los defensores el perfecto «campo de la muerte».13\\u200b El aeródromo se convirtió en una fortaleza,14\\u200b se emplearon cañones de campaña, minas terrestres, emplazamientos de ametralladoras manejadas por el 1.er Batallón, el 26° SS Regimiento Panzergrenadier, una batería antiaérea y el apoyo de quince tanques.13\\u200b15\\u200b\\n\\nFuerzas aliadas\\nPara el ataque a Carpiquet, Keller seleccionó tres batallones de infantería de la 8.ª Brigada de Infantería Canadiense; el The Queen's Own Rifles of Canada (QRC), Le Régiment de la Chaudière y el Regimiento de North Shore. También el Royal Winnipeg Rifles (RWR) de la 7.ª Brigada de Infantería Canadiense formaría parte del asalto.13\\u200b El 10.º Regimiento Acorazado Canadiense, los Fusileros Sherbrooke y el Cameron Highlanders Support Battalion proveyeron de apoyo armado y ametralladoras a las fuerzas aliadas. Más tarde se proporcionó apoyo adicional en forma de dos escuadrones de cazabombarderos Hawker Typhoon y tres escuadrones de tanques especializados de la 79.ª División Acorazada Británica.13\\u200b Como un medio para añadir potencia al fuego de artillería pesada del bombardeo inicial, los cañones 406 mm del acorazado HMS Rodney apoyarían con bombardeos a las posiciones alemanas alrededor de Carpiquet, unos 24 km tierra adentro.\\n\\nLa Operación Windsor fue diseñada para comenzar a las 05:00 horas del 4 de julio —después del bombardeo de 21 regimientos de artillería—16\\u200bcon Le Régiment de la Chaudière y el Regimiento de North Shore atacando Carpiquet mientras que los Fusileros Sherbrooke protegerían el flanco norte.13\\u200b En el sur, el RWR avanzaría y tomaría los hangares del aeródromo de Carpiquet.17\\u200b Una vez que los dos regimientos hubieran capturado Carpiquet, el QRC tomaría el control de los edificios del aeródromo.13\\u200b La captura permitiría más ataques anglo-canadienses contra Caen.18\\u200b\\n\\nBatalla\\nAsalto canadiense en Carpiquet (4 de julio)\\n\\nSoldados de la 9.ª Brigada de Infantería canadiense en el interior de una iglesia destrozada en Carpiquet.\\nAl amanecer el 4 de julio de 1944, 21 regimientos de artillería abrieron fuego contra las posiciones alemanas dentro y fuera de la ciudad de Carpiquet, disparando una barrera de fuego móvil de 1,6 km de ancho y 370 m de alto.Nota 2\\u200b21\\u200b A las 05:00 horas, dos regimientos de infantería canadiense avanzaron en Carpiquet, mientras que los Fusileros Sherbrooke atacaron por el norte.16\\u200b Los Fusileros Sherbooke lograron avanzar exitosamente a través de los campos minados alemanes, sin embargo, las posiciones defensivas del 26° SS Regimiento Panzergrenadier permanecieron intactas y continuaron disparando en el avance de la infantería del Regimiento de North Shore.16\\u200b En el centro, los Chaudières evitaron gran parte del fuego dirigido al Regimiento North Shore a medida que avanzaban en Carpiquet.1\\u200b Para las 06:32, ambos regimientos había llegado a las afueras de la ciudad, entrando en contacto con elementos de la 12.ª SS División Panzer.21\\u200b Como la pelea en Carpiquet degeneró en una guerra de desgaste, tanques del 10.º Regimiento Acorazado Canadiense ayudaron a la infantería en la progresiva superación de la oposición alemana.22\\u200b\\n\\nEn el sur, el RWR avanzó lentamente hacia el aeródromo, pero el fuego enemigo de morteros causó muchas bajas en el avance de la infantería.1\\u200b El RWR necesitó 90 minutos para lograr avanzar 2,4 km entre Marcelet y los hangares del aeródromo.22\\u200b Sólo con el posterior apoyo del fuego indirecto de un escuadrón del 10.º Regimiento Acorazado fue el RWR capaz de avanzar hacia la pista del aeródromo.1\\u200b22\\u200b Muchos tanques Sherman fueron eliminados durante esta parte de la batalla. Para el mediodía el RWR, a medio camino, se vio forzado a retirarse hasta su posición original.22\\u200b\\n\\n\\nVarios hombres de The Queen's Own Rifles of Canada cerca del aeródromo de Carpiquet.\\nSin saber que el RWR no había logrado obtener el control del aeródromo, Keller ordenó al QRC realizar la segunda fase del plan. El regimiento se movió a través de Carpiquet, controlada por los Chaudières y North Shore, quienes atacaron los fuertes alemanes dejados de lado por el asalto inicial.23\\u200b Estos realizaron una combinación de ataques de infantería, lanzallamas, tanques Churchill (equipados con morteros de espiga de 290 mm) y la inmolación de un fuerte punto defensivo para obligar a sus doce defensores a rendirse. El resto se rindió después de una cruel batalla.23\\u200b El QRC llegó al linde de Carpiquet cuando el RWR se retiraba y se le ordenó mantener sus posiciones hasta que el RWR pudiera reorganizarse para un segundo ataque.1\\u200b\\n\\nPara el segundo ataque en el aeródromo, Keller aseguró la ayuda de dos escuadrones de cazabombarderos Hawker Typhoon para apoyar los ataques contra las posiciones de los alemanes.23\\u200b Los sobrevivientes de la RWR recibieron la orden de «ejecutar un amplio ataque en la tierra baja alrededor de flanco izquierdo del enemigo»,1\\u200b empleando todos sus tanques y con el apoyo de artillería. Por la tarde, el RWR reanudó el ataque en el aeródromo y a pesar de que llegó a los hangares, fue incapaz de desalojar a los defensores alemanes.23\\u200b Debido a los contraataques de las unidades Panzer,1\\u200b se ordenó al RWR retirarse a su línea de salida bajo el amparo de la oscuridad.23\\u200b En Carpiquet, tres batallones de la 8.ª Brigada de Infantería Canadiense rápidamente fortificaron sus posiciones. Después de la toma de la ciudad, la brigada logró posicionarse más cerca de Caen que cualquier otra unidad anglo-canadiense.24\\u200b Aunque los canadienses tenían un control firme de Carpiquet y los hangares del norte, los hangares del sur y los edificios de control se mantuvieron en manos alemanas.24\\u200b\\n\\nContraataques alemanes (5 de julio)\\n\\nRuinas del aeródromo de Carpiquet después de ser bombardeado.\\nMenos de 1,6 km a las afueras de Caen, la 8.ª Brigada de Infantería Canadiense representaba una amenaza para las posiciones alemanas en la ciudad.24\\u200b Con la mayoría de las defensas concentradas al norte de Caen y en el río Odón, se temía que las fuerzas anglo-canadiense pudieran atacar desde Carpiquet y bordear la mayoría de las defensas.24\\u200b A pesar de las dudas crecientes sobre el éxito de un contraataque, Kurt Meyer ordenó a los soldados de la 12.ª SS División Panzer recuperar Carpiquet.1\\u200b Las fuerzas alemanas se preparaban para contraatacar en Carpiquet desde Franqueville con vehículos blindados, artillería, morteros e infantería.24\\u200b\\n\\nPoco después de la medianoche comenzó el primero de los contraataques de las SS y los alemanes se lanzaron contra las defensas canadienses. A pesar de que se habían perdido trece tanques el día anterior,24\\u200b el resto del 10.º Regimiento Acorazado Canadiense, apoyado por morteros de los Cameron Highlanders, evitaron que los panzers alemanes penetraran en las ruinas de Carpiquet.24\\u200b Las posiciones defensivas canadienses y el fuego de las ametralladoras causaron numerosas víctimas alemanas. Para el amanecer, los atacantes no habían ganado casi nada de terreno. Para el mediodía, la 8.ª Brigada de Infantería Canadiense y el 10.º Regimiento Acorazado Canadiense habían derrotado tres contraataques con el apoyo de artillería y de cazabombarderos Hawker Typhoon, asegurando que las fuerzas alemanas no volvieran a intentar violar las posiciones canadienses.1\\u200b La ciudad se mantuvo bajo control canadiense, a pesar del bombardeo constante de Nebelwerfers y morteros alemanes.24\\u200b\\n\\nConsecuencias\\n\\nLos soldados canadienses con un miembro de la Luftwaffe alemana hecho prisionero en el aeródromo de Carpiquet.\\nTres días después de la Operación Windsor, los ataques sobre Caen fueron renovados, con la 3.ª División de Infantería Canadiense formando parte de la Operación Charnwood. El 9 de julio, la 8.ª Brigada de Infantería Canadiense capturó exitosamente el aeródromo de Carpiquet,18\\u200b y 450 aviones de la Royal Air Force bombardearon Caen en preparación de un asalto mayor. Para el final del día, la mitad norte de Caen había sido capturado por las fuerzas británicas, mientras que el resto de la ciudad era arrasada.25\\u200b El 18 de julio, fuerzas británicas y canadienses lanzaron las operaciones Atlantic y Goodwood, los canadienses lanzaron la operación para liberar el resto de Caen, mientras que las fuerzas británicas aseguraron el área este y sur de la ciudad.26\\u200b27\\u200b Las fuerzas canadienses atacaron posiciones alemanas en la cresta de Verrières.28\\u200b\\n\\nPérdidas\\nLas víctimas canadienses de la Operación Windsor fueron en total 377,1\\u200b 127 de ellas fatales.1\\u200b La mayoría de estas pérdidas se produjeron el 4 de julio; el RWR y el Regimiento de North Shore tuvieron aproximadamente 130 víctimas cada uno en el primer día.24\\u200b En total, el 10.º Regimiento Armado Canadiense perdió diecisiete tanques, con un número desconocido de pérdidas por parte de los Fusileros Sherbrooke.29\\u200b Estadísticas alemanas indican unas bajas totales en 155,1\\u200b la mayoría producidas durante los contraataques del 5 de julio.30\\u200b\",\n",
       " 'number': 5,\n",
       " 'subject': 'WW-II History',\n",
       " 'tone': 'simple',\n",
       " 'response_json': '{\"1\": {\"mcq\": \"multiple choice question\", \"options\": {\"a\": \"choice here\", \"b\": \"choice here\", \"c\": \"choice here\", \"d\": \"choice here\"}, \"correct\": \"correct answer\"}, \"2\": {\"mcq\": \"multiple choice question\", \"options\": {\"a\": \"choice here\", \"b\": \"choice here\", \"c\": \"choice here\", \"d\": \"choice here\"}, \"correct\": \"correct answer\"}, \"3\": {\"mcq\": \"multiple choice question\", \"options\": {\"a\": \"choice here\", \"b\": \"choice here\", \"c\": \"choice here\", \"d\": \"choice here\"}, \"correct\": \"correct answer\"}}',\n",
       " 'quiz': '{\\n\"1\": {\\n\"mcq\": \"¿Cuál fue el objetivo principal de la Operación Windsor durante la Segunda Guerra Mundial?\",\\n\"options\": {\\n\"a\": \"Capturar la ciudad de Caen\",\\n\"b\": \"Tomar el control del aeródromo de Carpiquet\",\\n\"c\": \"Derrotar a las fuerzas alemanas en Normandía\",\\n\"d\": \"Proteger el frente oriental del asalto principal\"\\n},\\n\"correct\": \"b\"\\n},\\n\"2\": {\\n\"mcq\": \"¿Qué brigada de infantería canadiense capturó exitosamente Carpiquet durante la Operación Windsor?\",\\n\"options\": {\\n\"a\": \"7.ª Brigada de Infantería Canadiense\",\\n\"b\": \"8.ª Brigada de Infantería Canadiense\",\\n\"c\": \"9.ª Brigada de Infantería Canadiense\",\\n\"d\": \"10.ª Brigada de Infantería Canadiense\"\\n},\\n\"correct\": \"b\"\\n},\\n\"3\": {\\n\"mcq\": \"¿Qué tipo de apoyo aéreo recibieron las fuerzas canadienses durante la batalla en Carpiquet?\",\\n\"options\": {\\n\"a\": \"Bombardeo de la Luftwaffe\",\\n\"b\": \"Escuadrones de cazabombarderos Hawker Typhoon\",\\n\"c\": \"Ataques de paracaidistas aliados\",\\n\"d\": \"Bombardeo de la Royal Air Force\"\\n},\\n\"correct\": \"b\"\\n},\\n\"4\": {\\n\"mcq\": \"¿Cuál fue el resultado de los contraataques alemanes el 5 de julio en Carpiquet?\",\\n\"options\": {\\n\"a\": \"Captura exitosa del aeródromo por parte de las fuerzas alemanas\",\\n\"b\": \"Retirada de las fuerzas canadienses de Carpiquet\",\\n\"c\": \"Derrota de los alemanes y mantenimiento del control canadiense\",\\n\"d\": \"Destrucción de la ciudad por bombardeo\"\\n},\\n\"correct\": \"c\"\\n},\\n\"5\": {\\n\"mcq\": \"¿Cuántas víctimas canadienses se reportaron como resultado de la Operación Windsor?\",\\n\"options\": {\\n\"a\": \"377\",\\n\"b\": \"127\",\\n\"c\": \"155\",\\n\"d\": \"130\"\\n},\\n\"correct\": \"a\"\\n}\\n}',\n",
       " 'review': '{\\n\"1\": {\\n\"mcq\": \"¿Cuál fue el objetivo principal de la Operación Windsor durante la Segunda Guerra Mundial?\",\\n\"options\": {\\n\"a\": \"Capturar la ciudad de Caen\",\\n\"b\": \"Capturar la ciudad de Carpiquet\",\\n\"c\": \"Defender el frente oriental del asalto principal\",\\n\"d\": \"Proteger el aeródromo de las fuerzas alemanas\"\\n},\\n\"correct\": \"b\"\\n},\\n\"2\": {\\n\"mcq\": \"¿Cuál fue la fecha en la que se llevó a cabo la Operación Windsor?\",\\n\"options\": {\\n\"a\": \"6 de junio de 1944\",\\n\"b\": \"4 y 5 de julio de 1944\",\\n\"c\": \"9 de julio de 1944\",\\n\"d\": \"18 de julio de 1944\"\\n},\\n\"correct\": \"b\"\\n},\\n\"3\": {\\n\"mcq\": \"¿Cuál era el objetivo estratégico del aeródromo de Carpiquet para las fuerzas aliadas?\",\\n\"options\": {\\n\"a\": \"Servir como base para lanzar ataques aéreos\",\\n\"b\": \"Proporcionar refugio para las tropas aliadas\",\\n\"c\": \"Impedir los ataques alemanes desde el sur\",\\n\"d\": \"Capturar a altos mandos alemanes\"\\n},\\n\"correct\": \"a\"\\n},\\n\"4\": {\\n\"mcq\": \"¿Qué unidad canadiense logró capturar Carpiquet durante la Operación Windsor?\",\\n\"options\": {\\n\"a\": \"The Queen\\'s Own Rifles of Canada\",\\n\"b\": \"Le Régiment de la Chaudière\",\\n\"c\": \"Regimiento de North Shore\",\\n\"d\": \"Royal Winnipeg Rifles\"\\n},\\n\"correct\": \"a\"\\n},\\n\"5\": {\\n\"mcq\": \"¿Cuál fue el resultado de los contraataques alemanes en Carpiquet el 5 de julio?\",\\n\"options\": {\\n\"a\": \"Lograron retomar el control de la ciudad\",\\n\"b\": \"Fueron derrotados por las fuerzas canadienses\",\\n\"c\": \"Causaron la rendición de las tropas aliadas\",\\n\"d\": \"Provocaron la retirada de las fuerzas canadienses\"\\n},\\n\"correct\": \"b\"\\n}\\n}'}"
      ]
     },
     "execution_count": 107,
     "metadata": {},
     "output_type": "execute_result"
    }
   ],
   "source": [
    "response"
   ]
  },
  {
   "cell_type": "code",
   "execution_count": 108,
   "metadata": {},
   "outputs": [],
   "source": [
    "quiz = response.get(\"quiz\")"
   ]
  },
  {
   "cell_type": "code",
   "execution_count": 109,
   "metadata": {},
   "outputs": [],
   "source": [
    "quiz = json.loads(quiz)"
   ]
  },
  {
   "cell_type": "code",
   "execution_count": 110,
   "metadata": {},
   "outputs": [],
   "source": [
    "# Preparing the quiz for a better format\n",
    "\n",
    "quiz_table_data = []\n",
    "for key, value in quiz.items():\n",
    "    mcq = value[\"mcq\"]\n",
    "    options = \" | \".join(\n",
    "        [\n",
    "            f\"{option}: {option_value}\"\n",
    "            for option, option_value in value[\"options\"].items()\n",
    "        ]\n",
    "    )\n",
    "    correct = value[\"correct\"]\n",
    "    quiz_table_data.append({\"MCQ\": mcq, \"Choices\": options, \"Correct\": correct})"
   ]
  },
  {
   "cell_type": "code",
   "execution_count": 111,
   "metadata": {},
   "outputs": [
    {
     "data": {
      "text/html": [
       "<div>\n",
       "<style scoped>\n",
       "    .dataframe tbody tr th:only-of-type {\n",
       "        vertical-align: middle;\n",
       "    }\n",
       "\n",
       "    .dataframe tbody tr th {\n",
       "        vertical-align: top;\n",
       "    }\n",
       "\n",
       "    .dataframe thead th {\n",
       "        text-align: right;\n",
       "    }\n",
       "</style>\n",
       "<table border=\"1\" class=\"dataframe\">\n",
       "  <thead>\n",
       "    <tr style=\"text-align: right;\">\n",
       "      <th></th>\n",
       "      <th>MCQ</th>\n",
       "      <th>Choices</th>\n",
       "      <th>Correct</th>\n",
       "    </tr>\n",
       "  </thead>\n",
       "  <tbody>\n",
       "    <tr>\n",
       "      <th>0</th>\n",
       "      <td>¿Cuál fue el objetivo principal de la Operació...</td>\n",
       "      <td>a: Capturar la ciudad de Caen | b: Tomar el co...</td>\n",
       "      <td>b</td>\n",
       "    </tr>\n",
       "    <tr>\n",
       "      <th>1</th>\n",
       "      <td>¿Qué brigada de infantería canadiense capturó ...</td>\n",
       "      <td>a: 7.ª Brigada de Infantería Canadiense | b: 8...</td>\n",
       "      <td>b</td>\n",
       "    </tr>\n",
       "    <tr>\n",
       "      <th>2</th>\n",
       "      <td>¿Qué tipo de apoyo aéreo recibieron las fuerza...</td>\n",
       "      <td>a: Bombardeo de la Luftwaffe | b: Escuadrones ...</td>\n",
       "      <td>b</td>\n",
       "    </tr>\n",
       "    <tr>\n",
       "      <th>3</th>\n",
       "      <td>¿Cuál fue el resultado de los contraataques al...</td>\n",
       "      <td>a: Captura exitosa del aeródromo por parte de ...</td>\n",
       "      <td>c</td>\n",
       "    </tr>\n",
       "    <tr>\n",
       "      <th>4</th>\n",
       "      <td>¿Cuántas víctimas canadienses se reportaron co...</td>\n",
       "      <td>a: 377 | b: 127 | c: 155 | d: 130</td>\n",
       "      <td>a</td>\n",
       "    </tr>\n",
       "  </tbody>\n",
       "</table>\n",
       "</div>"
      ],
      "text/plain": [
       "                                                 MCQ  \\\n",
       "0  ¿Cuál fue el objetivo principal de la Operació...   \n",
       "1  ¿Qué brigada de infantería canadiense capturó ...   \n",
       "2  ¿Qué tipo de apoyo aéreo recibieron las fuerza...   \n",
       "3  ¿Cuál fue el resultado de los contraataques al...   \n",
       "4  ¿Cuántas víctimas canadienses se reportaron co...   \n",
       "\n",
       "                                             Choices Correct  \n",
       "0  a: Capturar la ciudad de Caen | b: Tomar el co...       b  \n",
       "1  a: 7.ª Brigada de Infantería Canadiense | b: 8...       b  \n",
       "2  a: Bombardeo de la Luftwaffe | b: Escuadrones ...       b  \n",
       "3  a: Captura exitosa del aeródromo por parte de ...       c  \n",
       "4                  a: 377 | b: 127 | c: 155 | d: 130       a  "
      ]
     },
     "execution_count": 111,
     "metadata": {},
     "output_type": "execute_result"
    }
   ],
   "source": [
    "pd.DataFrame(quiz_table_data)"
   ]
  },
  {
   "cell_type": "code",
   "execution_count": 112,
   "metadata": {},
   "outputs": [],
   "source": [
    "# Se puede concertir tambien a csv\n",
    "quiz = pd.DataFrame(quiz_table_data)\n",
    "quiz.to_csv(\"WWIIQuiz.csv\")"
   ]
  }
 ],
 "metadata": {
  "kernelspec": {
   "display_name": "testingopenai",
   "language": "python",
   "name": "python3"
  },
  "language_info": {
   "codemirror_mode": {
    "name": "ipython",
    "version": 3
   },
   "file_extension": ".py",
   "mimetype": "text/x-python",
   "name": "python",
   "nbconvert_exporter": "python",
   "pygments_lexer": "ipython3",
   "version": "3.8.19"
  }
 },
 "nbformat": 4,
 "nbformat_minor": 2
}
